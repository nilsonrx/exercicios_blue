{
  "nbformat": 4,
  "nbformat_minor": 0,
  "metadata": {
    "colab": {
      "name": "Exercícios 10-06.ipynb",
      "provenance": [],
      "collapsed_sections": [],
      "authorship_tag": "ABX9TyMVOTbfW6muDQvPS2mQUDT7",
      "include_colab_link": true
    },
    "kernelspec": {
      "name": "python3",
      "display_name": "Python 3"
    },
    "language_info": {
      "name": "python"
    }
  },
  "cells": [
    {
      "cell_type": "markdown",
      "metadata": {
        "id": "view-in-github",
        "colab_type": "text"
      },
      "source": [
        "<a href=\"https://colab.research.google.com/github/nilsonrx/exercicios_blue/blob/main/Exerc%C3%ADcios_10_06.ipynb\" target=\"_parent\"><img src=\"https://colab.research.google.com/assets/colab-badge.svg\" alt=\"Open In Colab\"/></a>"
      ]
    },
    {
      "cell_type": "code",
      "metadata": {
        "colab": {
          "base_uri": "https://localhost:8080/"
        },
        "id": "NjVWVILiSifJ",
        "outputId": "f0f123b7-a5f8-475a-c057-4f95ba4e70ca"
      },
      "source": [
        "#01 - Considere a string A = \"Os limites só existem se você os deixar existir.(goku)\".\n",
        "\n",
        "#Que fatia corresponde a (goku)?\n",
        "\n",
        "string = \"Os limites só existem se você os deixar existir.(goku)\"\n",
        "print(len(string))\n",
        "print(string[48:55])"
      ],
      "execution_count": 8,
      "outputs": [
        {
          "output_type": "stream",
          "text": [
            "54\n",
            "(goku)\n"
          ],
          "name": "stdout"
        }
      ]
    }
  ]
}