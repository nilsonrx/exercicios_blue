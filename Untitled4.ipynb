{
  "nbformat": 4,
  "nbformat_minor": 0,
  "metadata": {
    "colab": {
      "name": "Untitled4.ipynb",
      "provenance": [],
      "authorship_tag": "ABX9TyNw99hp3bOyacEjVL51Ll1a",
      "include_colab_link": true
    },
    "kernelspec": {
      "name": "python3",
      "display_name": "Python 3"
    },
    "language_info": {
      "name": "python"
    }
  },
  "cells": [
    {
      "cell_type": "markdown",
      "metadata": {
        "id": "view-in-github",
        "colab_type": "text"
      },
      "source": [
        "<a href=\"https://colab.research.google.com/github/nilsonrx/exercicios_blue/blob/main/Untitled4.ipynb\" target=\"_parent\"><img src=\"https://colab.research.google.com/assets/colab-badge.svg\" alt=\"Open In Colab\"/></a>"
      ]
    },
    {
      "cell_type": "code",
      "metadata": {
        "colab": {
          "base_uri": "https://localhost:8080/"
        },
        "id": "MpI1tFAtm4gy",
        "outputId": "ec47309a-5092-410b-837d-3b92aa9b0d9b"
      },
      "source": [
        "#Exercício 4\n",
        "\n",
        "sexo= input('Qual seu sexo? [F - Feminino, M - Masculino] ').upper()\n",
        "\n",
        "if sexo != 'M' and sexo != 'F':\n",
        "  print('Sexo Inválido')\n",
        "else:\n",
        "  print('Sexo Válido')\n"
      ],
      "execution_count": 1,
      "outputs": [
        {
          "output_type": "stream",
          "text": [
            "Qual seu sexo? [F - Feminino, M - Masculino] f\n",
            "Sexo Válido\n"
          ],
          "name": "stdout"
        }
      ]
    }
  ]
}