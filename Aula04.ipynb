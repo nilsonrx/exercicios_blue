{
  "nbformat": 4,
  "nbformat_minor": 0,
  "metadata": {
    "colab": {
      "name": "Aula04.ipynb",
      "provenance": [],
      "collapsed_sections": [],
      "authorship_tag": "ABX9TyMdJf/Fx/y4lsTmbmrVWoTw",
      "include_colab_link": true
    },
    "kernelspec": {
      "name": "python3",
      "display_name": "Python 3"
    },
    "language_info": {
      "name": "python"
    }
  },
  "cells": [
    {
      "cell_type": "markdown",
      "metadata": {
        "id": "view-in-github",
        "colab_type": "text"
      },
      "source": [
        "<a href=\"https://colab.research.google.com/github/nilsonrx/exercicios_blue/blob/main/Aula04.ipynb\" target=\"_parent\"><img src=\"https://colab.research.google.com/assets/colab-badge.svg\" alt=\"Open In Colab\"/></a>"
      ]
    },
    {
      "cell_type": "code",
      "metadata": {
        "colab": {
          "base_uri": "https://localhost:8080/"
        },
        "id": "B-UygdvlKgrJ",
        "outputId": "7e27139e-4992-41aa-a41e-b51086c5541b"
      },
      "source": [
        "# Fatiando Strings\n",
        "\n",
        "string = \"Sejam Bem vindos!\"\n",
        "print(len(string))\n",
        "print((string)[4]) # retorna a posição do caracter desejado\n",
        "print(string[0:8]) # retorna as contagens dos caracteres, na contagem de caracteres a contagem inicia do zero.\n",
        "#exemplo \n",
        "# 0 = s\n",
        "# 1 = e\n",
        "# 2 = j\n",
        "# 3 = a\n",
        "# 4 = m\n",
        "# 5 = \n",
        "# 6 = b\n",
        "# 7 = e\n",
        "# 8 = não retorna valor nenhum pois a busca chegou ao limite iniciando do zero\n",
        "\n",
        "\n",
        "print(string[:8]) #aqui ele fica implicito que a posição é a primeira \"zero\", até uma posição específica.\n",
        "print(string[8:]) #aqui ele busca de uma certa posição até o final da string"
      ],
      "execution_count": 9,
      "outputs": [
        {
          "output_type": "stream",
          "text": [
            "17\n",
            "m\n",
            "Sejam Be\n"
          ],
          "name": "stdout"
        }
      ]
    }
  ]
}