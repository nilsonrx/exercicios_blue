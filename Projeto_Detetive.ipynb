{
  "nbformat": 4,
  "nbformat_minor": 0,
  "metadata": {
    "colab": {
      "name": "Projeto Detetive.ipynb",
      "provenance": [],
      "collapsed_sections": [],
      "authorship_tag": "ABX9TyOe/zxz8oAG9uOCtGMRSN9h",
      "include_colab_link": true
    },
    "kernelspec": {
      "name": "python3",
      "display_name": "Python 3"
    },
    "language_info": {
      "name": "python"
    }
  },
  "cells": [
    {
      "cell_type": "markdown",
      "metadata": {
        "id": "view-in-github",
        "colab_type": "text"
      },
      "source": [
        "<a href=\"https://colab.research.google.com/github/nilsonrx/exercicios_blue/blob/main/Projeto_Detetive.ipynb\" target=\"_parent\"><img src=\"https://colab.research.google.com/assets/colab-badge.svg\" alt=\"Open In Colab\"/></a>"
      ]
    },
    {
      "cell_type": "code",
      "metadata": {
        "colab": {
          "base_uri": "https://localhost:8080/"
        },
        "id": "g-cbXrx-TKqZ",
        "outputId": "1c072db2-3b05-4574-94ac-c004c805a94e"
      },
      "source": [
        "print (\"Sejam Bem Vindos\")\n",
        "print(\"Respondam as perguntas abaixo, apenas com as respostas Sim ou Nao\")\n",
        "print(\"Qualquer resposta diferente de sim ou não, serão ignoradas!\")\n",
        "\n",
        "\n",
        "c1 = 'Suspeito'\n",
        "c2 = 'Cúmplice'\n",
        "c3 = 'Assassino'\n",
        "c4 = 'Inocente'\n",
        " \n",
        "resposta = str (input(\"Telefonou para a vítima? \"))\n",
        "resposta.lower()\n",
        "count = 0\n",
        " \n",
        "if resposta == 'sim' or resposta == 's':\n",
        "  count += 1\n",
        " \n",
        "resposta = str (input(\"Você esteve no local do crime? \"))\n",
        "resposta.lower()\n",
        " \n",
        "if resposta == 'sim' or resposta == 's':\n",
        "  count += 1 \n",
        " \n",
        "resposta = str (input(\"Você mora perto da vítima? \"))\n",
        "resposta.lower()\n",
        " \n",
        "if resposta == 'sim' or resposta== 's':\n",
        "  count = count +1\n",
        " \n",
        "resposta = str (input(\"Você devia para a vítima? \"))\n",
        "resposta.lower()\n",
        " \n",
        "if resposta == 'sim' or resposta == 's':\n",
        "  count = count +1\n",
        " \n",
        "resposta = str (input(\"Você já trabalhou com a vítima? \"))\n",
        "resposta.lower()\n",
        " \n",
        "if resposta == 'sim' or resposta == 's':\n",
        "  count = count +1\n",
        " \n",
        "if count == 2:\n",
        "  print(c1)\n",
        " \n",
        "if count == 3 or count == 4:\n",
        "  print(c2)\n",
        " \n",
        "if count == 5:\n",
        "  print(c3)\n",
        " \n",
        "if count == 0:\n",
        "  print(c4)"
      ],
      "execution_count": 41,
      "outputs": [
        {
          "output_type": "stream",
          "text": [
            "Sejam Bem Vindos\n",
            "Respondam as perguntas abaixo, apenas com as respostas Sim ou Nao\n",
            "Qualquer resposta diferente de sim ou não, serão ignoradas!\n",
            "Telefonou para a vítima? sim\n",
            "Você esteve no local do crime? sim\n",
            "Você mora perto da vítima? sim\n",
            "Você devia para a vítima? sim\n",
            "Você já trabalhou com a vítima? nao\n",
            "Cúmplice\n"
          ],
          "name": "stdout"
        }
      ]
    }
  ]
}