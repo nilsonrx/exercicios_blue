{
  "nbformat": 4,
  "nbformat_minor": 0,
  "metadata": {
    "colab": {
      "name": "Projeto Detetive.ipynb",
      "provenance": [],
      "authorship_tag": "ABX9TyPZOxyZAl5GqqoIiY0D6D6S",
      "include_colab_link": true
    },
    "kernelspec": {
      "name": "python3",
      "display_name": "Python 3"
    },
    "language_info": {
      "name": "python"
    }
  },
  "cells": [
    {
      "cell_type": "markdown",
      "metadata": {
        "id": "view-in-github",
        "colab_type": "text"
      },
      "source": [
        "<a href=\"https://colab.research.google.com/github/nilsonrx/exercicios_blue/blob/main/Projeto_Detetive.ipynb\" target=\"_parent\"><img src=\"https://colab.research.google.com/assets/colab-badge.svg\" alt=\"Open In Colab\"/></a>"
      ]
    },
    {
      "cell_type": "code",
      "metadata": {
        "colab": {
          "base_uri": "https://localhost:8080/"
        },
        "id": "g-cbXrx-TKqZ",
        "outputId": "9168dd1d-d19c-4889-ed13-1e6082ad2159"
      },
      "source": [
        "c1 = 'Suspeito'\n",
        "c2 = 'Cúmplice'\n",
        "c3 = 'Assassino'\n",
        "c4 = 'Inocente'\n",
        " \n",
        "resposta = str (input(\"Telefonou para a vítima? \"))\n",
        "resposta.lower()\n",
        "count = 0\n",
        " \n",
        "if resposta == 'sim' or resposta == 's':\n",
        "  count += 1\n",
        " \n",
        "resposta = str (input(\"Você esteve no local do crime? \"))\n",
        "resposta.lower()\n",
        " \n",
        "if resposta == 'sim' or resposta == 's':\n",
        "  count += 1 \n",
        " \n",
        "resposta = str (input(\"Você mora perto da vítima? \"))\n",
        "resposta.lower()\n",
        " \n",
        "if resposta == 'sim' or resposta== 's':\n",
        "  count = count +1\n",
        " \n",
        "resposta = str (input(\"Você devia para a vítima?\"))\n",
        "resposta.lower()\n",
        " \n",
        "if resposta == 'sim' or resposta == 's':\n",
        "  count = count +1\n",
        " \n",
        "resposta = str (input(\"Você já trabalhou com a vítima? \"))\n",
        "resposta.lower()\n",
        " \n",
        "if resposta == 'sim' or resposta == 's':\n",
        "  count = count +1\n",
        " \n",
        "if count == 2:\n",
        "  print(c1)\n",
        " \n",
        "if count == 3 or count == 4:\n",
        "  print(c2)\n",
        " \n",
        "if count == 5:\n",
        "  print(c3)\n",
        " \n",
        "if count == 0 or count == 1:\n",
        "  print(c4)"
      ],
      "execution_count": 17,
      "outputs": [
        {
          "output_type": "stream",
          "text": [
            "Telefonou para a vítima? sim\n",
            "Você esteve no local do crime? sim\n",
            "Você mora perto da vítima? sim\n",
            "Você devia para a vítima?nao\n",
            "Você já trabalhou com a vítima? nao\n",
            "Cúmplice\n"
          ],
          "name": "stdout"
        }
      ]
    }
  ]
}